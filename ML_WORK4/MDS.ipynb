{
 "cells": [
  {
   "cell_type": "code",
   "execution_count": 31,
   "metadata": {},
   "outputs": [],
   "source": [
    "import numpy as np \n",
    "import pandas as pd\n",
    "import matplotlib.pyplot as plt\n",
    "from sklearn.preprocessing import MinMaxScaler\n",
    "from sklearn.metrics import pairwise_distances\n",
    "from sklearn.manifold import MDS"
   ]
  },
  {
   "cell_type": "code",
   "execution_count": 32,
   "metadata": {},
   "outputs": [
    {
     "data": {
      "text/html": [
       "<div>\n",
       "<style scoped>\n",
       "    .dataframe tbody tr th:only-of-type {\n",
       "        vertical-align: middle;\n",
       "    }\n",
       "\n",
       "    .dataframe tbody tr th {\n",
       "        vertical-align: top;\n",
       "    }\n",
       "\n",
       "    .dataframe thead th {\n",
       "        text-align: right;\n",
       "    }\n",
       "</style>\n",
       "<table border=\"1\" class=\"dataframe\">\n",
       "  <thead>\n",
       "    <tr style=\"text-align: right;\">\n",
       "      <th></th>\n",
       "      <th>Taipei</th>\n",
       "      <th>Hsinchu</th>\n",
       "      <th>Taichung</th>\n",
       "      <th>Tainan</th>\n",
       "      <th>Kaohsiung</th>\n",
       "      <th>Hualien</th>\n",
       "      <th>Taitung</th>\n",
       "    </tr>\n",
       "  </thead>\n",
       "  <tbody>\n",
       "    <tr>\n",
       "      <th>0</th>\n",
       "      <td>0</td>\n",
       "      <td>54</td>\n",
       "      <td>138</td>\n",
       "      <td>267</td>\n",
       "      <td>289</td>\n",
       "      <td>172</td>\n",
       "      <td>215</td>\n",
       "    </tr>\n",
       "    <tr>\n",
       "      <th>1</th>\n",
       "      <td>54</td>\n",
       "      <td>0</td>\n",
       "      <td>88</td>\n",
       "      <td>223</td>\n",
       "      <td>247</td>\n",
       "      <td>149</td>\n",
       "      <td>187</td>\n",
       "    </tr>\n",
       "    <tr>\n",
       "      <th>2</th>\n",
       "      <td>138</td>\n",
       "      <td>88</td>\n",
       "      <td>0</td>\n",
       "      <td>136</td>\n",
       "      <td>161</td>\n",
       "      <td>103</td>\n",
       "      <td>125</td>\n",
       "    </tr>\n",
       "    <tr>\n",
       "      <th>3</th>\n",
       "      <td>267</td>\n",
       "      <td>223</td>\n",
       "      <td>136</td>\n",
       "      <td>0</td>\n",
       "      <td>26</td>\n",
       "      <td>128</td>\n",
       "      <td>98</td>\n",
       "    </tr>\n",
       "    <tr>\n",
       "      <th>4</th>\n",
       "      <td>289</td>\n",
       "      <td>247</td>\n",
       "      <td>161</td>\n",
       "      <td>26</td>\n",
       "      <td>0</td>\n",
       "      <td>141</td>\n",
       "      <td>105</td>\n",
       "    </tr>\n",
       "    <tr>\n",
       "      <th>5</th>\n",
       "      <td>172</td>\n",
       "      <td>149</td>\n",
       "      <td>103</td>\n",
       "      <td>128</td>\n",
       "      <td>141</td>\n",
       "      <td>0</td>\n",
       "      <td>44</td>\n",
       "    </tr>\n",
       "    <tr>\n",
       "      <th>6</th>\n",
       "      <td>215</td>\n",
       "      <td>187</td>\n",
       "      <td>125</td>\n",
       "      <td>98</td>\n",
       "      <td>105</td>\n",
       "      <td>44</td>\n",
       "      <td>0</td>\n",
       "    </tr>\n",
       "  </tbody>\n",
       "</table>\n",
       "</div>"
      ],
      "text/plain": [
       "   Taipei  Hsinchu  Taichung  Tainan  Kaohsiung  Hualien  Taitung\n",
       "0       0       54       138     267        289      172      215\n",
       "1      54        0        88     223        247      149      187\n",
       "2     138       88         0     136        161      103      125\n",
       "3     267      223       136       0         26      128       98\n",
       "4     289      247       161      26          0      141      105\n",
       "5     172      149       103     128        141        0       44\n",
       "6     215      187       125      98        105       44        0"
      ]
     },
     "execution_count": 32,
     "metadata": {},
     "output_type": "execute_result"
    }
   ],
   "source": [
    "df = pd.read_csv('Distance.csv')\n",
    "df"
   ]
  },
  {
   "cell_type": "code",
   "execution_count": 33,
   "metadata": {},
   "outputs": [
    {
     "name": "stdout",
     "output_type": "stream",
     "text": [
      "[[  0  54 138 267 289 172 215]\n",
      " [ 54   0  88 223 247 149 187]\n",
      " [138  88   0 136 161 103 125]\n",
      " [267 223 136   0  26 128  98]\n",
      " [289 247 161  26   0 141 105]\n",
      " [172 149 103 128 141   0  44]\n",
      " [215 187 125  98 105  44   0]]\n"
     ]
    }
   ],
   "source": [
    "a = np.array(df)\n",
    "print(a)"
   ]
  },
  {
   "cell_type": "code",
   "execution_count": 34,
   "metadata": {},
   "outputs": [],
   "source": [
    "Min_Max=MinMaxScaler()\n",
    "x=pd.DataFrame(Min_Max.fit_transform(a))\n",
    "dis_matrix=pairwise_distances(x,metric='euclidean')"
   ]
  },
  {
   "cell_type": "code",
   "execution_count": 35,
   "metadata": {},
   "outputs": [
    {
     "data": {
      "image/png": "[encoded data removed]",
      "text/plain": [
       "<Figure size 432x288 with 1 Axes>"
      ]
     },
     "metadata": {
      "needs_background": "light"
     },
     "output_type": "display_data"
    }
   ],
   "source": [
    "Modeel=MDS(n_components=2,dissimilarity=\"precomputed\")\n",
    "mds_fit=Modeel.fit(dis_matrix)\n",
    "mds_Results=Modeel.fit_transform(dis_matrix)\n",
    "city_names=['Taipei','Hsinchu','Taichung','Tainan', 'Kaohsiung', 'Hualien', 'Taitung']\n",
    "plt.figure()\n",
    "plt.scatter(mds_Results[:,0],mds_Results[:,1],facecolors = 'none', edgecolors = 'r')  \n",
    "labels = city_names\n",
    "for label, x, y in zip(labels, mds_Results[:,0], mds_Results[:,1]):\n",
    "    plt.annotate(label, (x,y), xycoords = 'data')\n",
    "plt.xlabel('Kilo')\n",
    "plt.ylabel('Kilo')\n",
    "plt.title('City')    \n",
    "plt.show()"
   ]
  }
 ],
 "metadata": {
  "kernelspec": {
   "display_name": "Python 3.8.8 ('base')",
   "language": "python",
   "name": "python3"
  },
  "language_info": {
   "codemirror_mode": {
    "name": "ipython",
    "version": 3
   },
   "file_extension": ".py",
   "mimetype": "text/x-python",
   "name": "python",
   "nbconvert_exporter": "python",
   "pygments_lexer": "ipython3",
   "version": "3.8.8"
  },
  "orig_nbformat": 4,
  "vscode": {
   "interpreter": {
    "hash": "ad2bdc8ecc057115af97d19610ffacc2b4e99fae6737bb82f5d7fb13d2f2c186"
   }
  }
 },
 "nbformat": 4,
 "nbformat_minor": 2
}
